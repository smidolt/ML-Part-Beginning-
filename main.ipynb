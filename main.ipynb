{
 "cells": [
  {
   "cell_type": "code",
   "execution_count": 1,
   "id": "6e9fe6f1",
   "metadata": {
    "scrolled": true
   },
   "outputs": [
    {
     "name": "stdout",
     "output_type": "stream",
     "text": [
      "Requirement already satisfied: tensorflow_datasets in /Users/smidolt/opt/anaconda3/lib/python3.9/site-packages (4.7.0)\n",
      "Requirement already satisfied: absl-py in /Users/smidolt/opt/anaconda3/lib/python3.9/site-packages (from tensorflow_datasets) (1.3.0)\n",
      "Requirement already satisfied: tensorflow-metadata in /Users/smidolt/opt/anaconda3/lib/python3.9/site-packages (from tensorflow_datasets) (1.11.0)\n",
      "Requirement already satisfied: promise in /Users/smidolt/opt/anaconda3/lib/python3.9/site-packages (from tensorflow_datasets) (2.3)\n",
      "Requirement already satisfied: six in /Users/smidolt/opt/anaconda3/lib/python3.9/site-packages (from tensorflow_datasets) (1.16.0)\n",
      "Requirement already satisfied: numpy in /Users/smidolt/opt/anaconda3/lib/python3.9/site-packages (from tensorflow_datasets) (1.21.5)\n",
      "Requirement already satisfied: toml in /Users/smidolt/opt/anaconda3/lib/python3.9/site-packages (from tensorflow_datasets) (0.10.2)\n",
      "Requirement already satisfied: termcolor in /Users/smidolt/opt/anaconda3/lib/python3.9/site-packages (from tensorflow_datasets) (2.1.0)\n",
      "Requirement already satisfied: tqdm in /Users/smidolt/opt/anaconda3/lib/python3.9/site-packages (from tensorflow_datasets) (4.64.1)\n",
      "Requirement already satisfied: etils[epath] in /Users/smidolt/opt/anaconda3/lib/python3.9/site-packages (from tensorflow_datasets) (0.9.0)\n",
      "Requirement already satisfied: requests>=2.19.0 in /Users/smidolt/opt/anaconda3/lib/python3.9/site-packages (from tensorflow_datasets) (2.28.1)\n",
      "Requirement already satisfied: protobuf>=3.12.2 in /Users/smidolt/opt/anaconda3/lib/python3.9/site-packages (from tensorflow_datasets) (3.19.6)\n",
      "Requirement already satisfied: dill in /Users/smidolt/opt/anaconda3/lib/python3.9/site-packages (from tensorflow_datasets) (0.3.4)\n",
      "Requirement already satisfied: urllib3<1.27,>=1.21.1 in /Users/smidolt/opt/anaconda3/lib/python3.9/site-packages (from requests>=2.19.0->tensorflow_datasets) (1.26.11)\n",
      "Requirement already satisfied: idna<4,>=2.5 in /Users/smidolt/opt/anaconda3/lib/python3.9/site-packages (from requests>=2.19.0->tensorflow_datasets) (3.3)\n",
      "Requirement already satisfied: certifi>=2017.4.17 in /Users/smidolt/opt/anaconda3/lib/python3.9/site-packages (from requests>=2.19.0->tensorflow_datasets) (2022.9.24)\n",
      "Requirement already satisfied: charset-normalizer<3,>=2 in /Users/smidolt/opt/anaconda3/lib/python3.9/site-packages (from requests>=2.19.0->tensorflow_datasets) (2.0.4)\n",
      "Requirement already satisfied: zipp in /Users/smidolt/opt/anaconda3/lib/python3.9/site-packages (from etils[epath]->tensorflow_datasets) (3.8.0)\n",
      "Requirement already satisfied: typing_extensions in /Users/smidolt/opt/anaconda3/lib/python3.9/site-packages (from etils[epath]->tensorflow_datasets) (4.3.0)\n",
      "Requirement already satisfied: importlib_resources in /Users/smidolt/opt/anaconda3/lib/python3.9/site-packages (from etils[epath]->tensorflow_datasets) (5.10.0)\n",
      "Requirement already satisfied: googleapis-common-protos<2,>=1.52.0 in /Users/smidolt/opt/anaconda3/lib/python3.9/site-packages (from tensorflow-metadata->tensorflow_datasets) (1.56.4)\n"
     ]
    }
   ],
   "source": [
    "!pip install tensorflow_datasets"
   ]
  },
  {
   "cell_type": "code",
   "execution_count": null,
   "id": "614e31d3-d990-48c5-9240-061d51621a2f",
   "metadata": {},
   "outputs": [],
   "source": [
    "import numpy as np\n",
    "import tensorflow as tf\n",
    "import tensorflow_datasets\n",
    "from tensorflow.keras.preprocessing.image import load_img, img_to_array\n",
    "from tensorflow.keras.lyaers import Dense, GlobalAveragePooling2D, Dropout\n",
    "import matplotlib.pyplot as plt\n",
    "from google.colab import files"
   ]
  },
  {
   "cell_type": "code",
   "execution_count": 1,
   "id": "5bcf42a3",
   "metadata": {},
   "outputs": [],
   "source": [
    "SIZE = 224"
   ]
  },
  {
   "cell_type": "code",
   "execution_count": 2,
   "id": "597c4ca8",
   "metadata": {},
   "outputs": [
    {
     "ename": "NameError",
     "evalue": "name 'tensorflow_datasets' is not defined",
     "output_type": "error",
     "traceback": [
      "\u001b[0;31m---------------------------------------------------------------------------\u001b[0m",
      "\u001b[0;31mNameError\u001b[0m                                 Traceback (most recent call last)",
      "\u001b[0;32m/var/folders/d2/ttrxh8vx2j9_brg1llx_jr5r0000gn/T/ipykernel_68317/1958629616.py\u001b[0m in \u001b[0;36m<module>\u001b[0;34m\u001b[0m\n\u001b[0;32m----> 1\u001b[0;31m \u001b[0mtensorflow_datasets\u001b[0m\u001b[0;34m.\u001b[0m\u001b[0mload\u001b[0m\u001b[0;34m(\u001b[0m\u001b[0;34m'cats_vs_dogs'\u001b[0m\u001b[0;34m,\u001b[0m \u001b[0msplit\u001b[0m \u001b[0;34m=\u001b[0m \u001b[0;34m[\u001b[0m\u001b[0;34m'train[:100%]'\u001b[0m\u001b[0;34m]\u001b[0m\u001b[0;34m,\u001b[0m\u001b[0mwith_info\u001b[0m\u001b[0;34m=\u001b[0m\u001b[0;32mTrue\u001b[0m\u001b[0;34m,\u001b[0m \u001b[0mas_supervised\u001b[0m\u001b[0;34m=\u001b[0m\u001b[0;32mTrue\u001b[0m\u001b[0;34m)\u001b[0m\u001b[0;34m\u001b[0m\u001b[0;34m\u001b[0m\u001b[0m\n\u001b[0m",
      "\u001b[0;31mNameError\u001b[0m: name 'tensorflow_datasets' is not defined"
     ]
    }
   ],
   "source": [
    "tensorflow_datasets.load('datasets', split = ['train[:100%]'],with_info=True, as_supervised=True)"
   ]
  },
  {
   "cell_type": "code",
   "execution_count": null,
   "id": "de17588d",
   "metadata": {},
   "outputs": [],
   "source": []
  }
 ],
 "metadata": {
  "kernelspec": {
   "display_name": "Python 3 (ipykernel)",
   "language": "python",
   "name": "python3"
  },
  "language_info": {
   "codemirror_mode": {
    "name": "ipython",
    "version": 3
   },
   "file_extension": ".py",
   "mimetype": "text/x-python",
   "name": "python",
   "nbconvert_exporter": "python",
   "pygments_lexer": "ipython3",
   "version": "3.9.13"
  }
 },
 "nbformat": 4,
 "nbformat_minor": 5
}
